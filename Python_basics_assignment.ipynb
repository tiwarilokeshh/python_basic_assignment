{
  "nbformat": 4,
  "nbformat_minor": 0,
  "metadata": {
    "colab": {
      "provenance": [],
      "toc_visible": true
    },
    "kernelspec": {
      "name": "python3",
      "display_name": "Python 3"
    },
    "language_info": {
      "name": "python"
    }
  },
  "cells": [
    {
      "cell_type": "markdown",
      "source": [
        "# ***Python Basics Questions***\n"
      ],
      "metadata": {
        "id": "mXbv1uw5hk3k"
      }
    },
    {
      "cell_type": "markdown",
      "source": [
        "\n",
        "\n",
        "> 1. What is Python, and why is it popular ? >> python is a high  level , interpreted programming language known for simplicity , readability and versatality. it was created in 1991 , python support multiple programming , include procedural , object oriented and functional programming . why it is popular >> easy to learn , libraries and framework , automation , big tech adoption and many more.\n",
        "\n",
        "> 2. What is an interpreter in Python ? >> interpreter in python is a program that execute python code line by line converting it into machince code into runtime , Unlike compiled languages like C or Java, where the code is first converted into machine code before execution, Python interpreter directly runs the code without a separate compilation step.\n",
        "\n",
        "> 3.  What are pre-defined keywords in Python >> pre define keywords in python are reserved words that can define special meaning and cannot be used as a variable name , functions names , identifier . these keywords are bulit in python language . keywords are : if , elif , else , for , loop , while , break , continue etc .\n",
        "\n",
        "> 4. Can keywords be used as variable names >> No , keywords cannot be used as a variable name because they have reserved words that pre define meaning in the language using keywords as a variable give syntax error.\n",
        "\n",
        "> 5. What is mutability in Python >> mutable in python that object value can be changed after a creation.\n",
        "\n",
        "> 6. Why are lists mutable, but tuples are immutable >> Lists store references to their elements, allowing changes.\n",
        "Tuples store elements in a fixed memory structure, making them unchangeable.\n",
        "\n",
        "> 7. What is the difference between “==” and “is” operators in Python ? >> \" == \" means value equality compare two object have the sane value and \" is \" operator means identity equality compare two object have the same memory location.\n",
        "\n",
        "> 8. What are logical operators in Python? >> logical opeartor in python are AND , OR , NOT .\n",
        "\n",
        "> 9. What is type casting in Python ? >> converting one data type to another data type < there are two type of type casting > implicit : done automatically in python , explicit : done manually in python.\n",
        "\n",
        "> 10. What is the difference between implicit and explicit type casting >> implicit type casting done by automatically in python and explicit type casting done by manually in python .\n",
        "\n",
        "> 11. What is the purpose of conditional statements in Python ? >> conditional statement in python used for control the flow of a program on a specific condition . there are 3 type of statement : if , if else , if else elif , nested if.\n",
        "\n",
        "> 12. How does the elif statement work ? >> you need to check multiple condition , it allow to test multiple condition if one condition is true block of code are executed.\n",
        "\n",
        "> 13. What is the difference between for and while loops ? >> 1. used when number of iteration known and while , number of iteration are unknown . 2. iterate over a sequence and while , iterate become condition false. 3. stop when the condition end and while , stop when the condition become false.\n",
        "\n",
        "> 14. Describe a scenario where a while loop is more suitable than a for loop.? >> while loop is more suitable than a for loop because in while loop number of iteration are unknown and depend on a condition being met.\n",
        "\n",
        "\n",
        "\n",
        "\n",
        "\n",
        "\n",
        "\n",
        "\n",
        "\n",
        "\n",
        "\n",
        "\n",
        "\n",
        "\n",
        "\n",
        "\n",
        "\n",
        "\n",
        "\n",
        "\n",
        "\n",
        "\n",
        "\n",
        "\n",
        "\n",
        "\n",
        "\n",
        "\n"
      ],
      "metadata": {
        "id": "bZ6uxFTmh0aH"
      }
    },
    {
      "cell_type": "markdown",
      "source": [
        "# ***Practical Questions***"
      ],
      "metadata": {
        "id": "tpdMqAsJ1m3K"
      }
    },
    {
      "cell_type": "code",
      "source": [
        "#Write a Python program to print \"Hello, World!\n",
        "print = (\"Hello , World!\")\n",
        "print"
      ],
      "metadata": {
        "colab": {
          "base_uri": "https://localhost:8080/",
          "height": 36
        },
        "id": "ZMR128mw1kkw",
        "outputId": "141a54c0-ed2a-4aa0-b6e8-5ed35cf1e5c4"
      },
      "execution_count": null,
      "outputs": [
        {
          "output_type": "execute_result",
          "data": {
            "text/plain": [
              "'Hello , World!'"
            ],
            "application/vnd.google.colaboratory.intrinsic+json": {
              "type": "string"
            }
          },
          "metadata": {},
          "execution_count": 5
        }
      ]
    },
    {
      "cell_type": "code",
      "source": [
        "#Write a Python program that displays your name and age?\n",
        "name = \"Lokesh Tiwari\"\n",
        "age = 20\n",
        "print(\"My name is\" ,name)\n",
        "print(\"I am\" ,age,\"years old.\")"
      ],
      "metadata": {
        "colab": {
          "base_uri": "https://localhost:8080/"
        },
        "id": "AZVTRgXu2JB_",
        "outputId": "ee75ebf6-43ca-403a-b428-699c3b23ecf7"
      },
      "execution_count": null,
      "outputs": [
        {
          "output_type": "stream",
          "name": "stdout",
          "text": [
            "My name is Lokesh Tiwari\n",
            "I am 20 years old.\n"
          ]
        }
      ]
    },
    {
      "cell_type": "code",
      "source": [
        "#Write code to print all the pre-defined keywords in Python using the keyword library?\n",
        "import keyword\n",
        "keywords = keyword.kwlist\n",
        "for i in keywords:\n",
        "  print(i)"
      ],
      "metadata": {
        "colab": {
          "base_uri": "https://localhost:8080/"
        },
        "id": "NK4FKuxr2b9G",
        "outputId": "30ab9cd5-918b-4cd5-9ccc-cd78d8c00b5f"
      },
      "execution_count": null,
      "outputs": [
        {
          "output_type": "stream",
          "name": "stdout",
          "text": [
            "False\n",
            "None\n",
            "True\n",
            "and\n",
            "as\n",
            "assert\n",
            "async\n",
            "await\n",
            "break\n",
            "class\n",
            "continue\n",
            "def\n",
            "del\n",
            "elif\n",
            "else\n",
            "except\n",
            "finally\n",
            "for\n",
            "from\n",
            "global\n",
            "if\n",
            "import\n",
            "in\n",
            "is\n",
            "lambda\n",
            "nonlocal\n",
            "not\n",
            "or\n",
            "pass\n",
            "raise\n",
            "return\n",
            "try\n",
            "while\n",
            "with\n",
            "yield\n"
          ]
        }
      ]
    },
    {
      "cell_type": "code",
      "source": [
        "#Write a program that checks if a given word is a Python keyword.?\n",
        "import keyword\n",
        "word = input(\"Python keywords:\")\n",
        "if word in keyword.kwlist:\n",
        "  print(\"True\")\n",
        "else:\n",
        "  print(\"False\")"
      ],
      "metadata": {
        "colab": {
          "base_uri": "https://localhost:8080/"
        },
        "id": "AZ1Ryr9U49aK",
        "outputId": "fcbb63a0-825d-4a8f-9f72-59448100db7f"
      },
      "execution_count": null,
      "outputs": [
        {
          "output_type": "stream",
          "name": "stdout",
          "text": [
            "Python keywords:for\n",
            "True\n"
          ]
        }
      ]
    },
    {
      "cell_type": "code",
      "source": [
        "#Create a list and tuple in Python, and demonstrate how attempting to change an element works differently for each ?\n",
        "my_list = [10,20,30]\n",
        "my_tuple = (10,20,30)"
      ],
      "metadata": {
        "id": "8-QZDIBX9q4F"
      },
      "execution_count": null,
      "outputs": []
    },
    {
      "cell_type": "code",
      "source": [
        "my_list[0] = 100\n",
        "my_list"
      ],
      "metadata": {
        "colab": {
          "base_uri": "https://localhost:8080/"
        },
        "id": "9RHTZ0zQ-8MH",
        "outputId": "9581ca2d-ba49-449b-e758-e0702f732f7d"
      },
      "execution_count": null,
      "outputs": [
        {
          "output_type": "execute_result",
          "data": {
            "text/plain": [
              "[100, 20, 30]"
            ]
          },
          "metadata": {},
          "execution_count": 6
        }
      ]
    },
    {
      "cell_type": "code",
      "source": [
        "my_tuple[1] = 100\n",
        "my_tuple # give an error because this is immutable"
      ],
      "metadata": {
        "colab": {
          "base_uri": "https://localhost:8080/",
          "height": 158
        },
        "id": "21gp1g8v_GjL",
        "outputId": "e987aee7-1272-4bd2-ab81-09a8c1604c51"
      },
      "execution_count": null,
      "outputs": [
        {
          "output_type": "error",
          "ename": "TypeError",
          "evalue": "'tuple' object does not support item assignment",
          "traceback": [
            "\u001b[0;31m---------------------------------------------------------------------------\u001b[0m",
            "\u001b[0;31mTypeError\u001b[0m                                 Traceback (most recent call last)",
            "\u001b[0;32m<ipython-input-7-a1910c5f5f94>\u001b[0m in \u001b[0;36m<cell line: 0>\u001b[0;34m()\u001b[0m\n\u001b[0;32m----> 1\u001b[0;31m \u001b[0mmy_tuple\u001b[0m\u001b[0;34m[\u001b[0m\u001b[0;36m1\u001b[0m\u001b[0;34m]\u001b[0m \u001b[0;34m=\u001b[0m \u001b[0;36m100\u001b[0m\u001b[0;34m\u001b[0m\u001b[0;34m\u001b[0m\u001b[0m\n\u001b[0m\u001b[1;32m      2\u001b[0m \u001b[0mmy_tuple\u001b[0m\u001b[0;34m\u001b[0m\u001b[0;34m\u001b[0m\u001b[0m\n",
            "\u001b[0;31mTypeError\u001b[0m: 'tuple' object does not support item assignment"
          ]
        }
      ]
    },
    {
      "cell_type": "code",
      "source": [
        "# Write a program that performs basic arithmetic operations on two user-input numbers\n",
        "\n",
        "num1 = float(input(\"Enter the first number: \"))\n",
        "num2 = float(input(\"Enter the second number: \"))\n",
        "\n",
        "addition = num1 + num2\n",
        "subtraction = num1 - num2\n",
        "multiplication = num1 * num2\n",
        "division = num1 / num2\n",
        "\n",
        "print(\"\\nResults:\")\n",
        "print(f\"Addition: {num1} + {num2} = {addition}\")\n",
        "print(f\"Subtraction: {num1} - {num2} = {subtraction}\")\n",
        "print(f\"Multiplication: {num1} × {num2} = {multiplication}\")\n",
        "print(f\"Division: {num1} ÷ {num2} = {division}\")\n"
      ],
      "metadata": {
        "id": "rK52dVjV_KUz",
        "colab": {
          "base_uri": "https://localhost:8080/"
        },
        "outputId": "006cd3a3-2476-4cf0-9745-94489078801c"
      },
      "execution_count": null,
      "outputs": [
        {
          "output_type": "stream",
          "name": "stdout",
          "text": [
            "Enter the first number: 1\n",
            "Enter the second number: 1\n",
            "\n",
            "Results:\n",
            "Addition: 1.0 + 1.0 = 2.0\n",
            "Subtraction: 1.0 - 1.0 = 0.0\n",
            "Multiplication: 1.0 × 1.0 = 1.0\n",
            "Division: 1.0 ÷ 1.0 = 1.0\n"
          ]
        }
      ]
    },
    {
      "cell_type": "code",
      "source": [
        "#Write a program to demonstrate the use of logical operators\n",
        "\n",
        "a = int(input(\"Enter the first number: \"))\n",
        "b = int (input(\"Enter the second number: \"))\n",
        "\n",
        "print(\"\\n Logical AND:\")\n",
        "print(f\"{a} > 0 and {b} > 0 :\" , a > 0 and b > 0)\n",
        "\n",
        "print(\"\\n OR:\")\n",
        "print(f\"{a} > 0 or {b} > 0:\" , a > 0 or b > 0)\n",
        "\n",
        "print(\"\\n NOT:\")\n",
        "print(f\"not({a} > 0):\", not (a > 0))\n",
        "print(f\"not({b} > 0):\", not (b > 0))"
      ],
      "metadata": {
        "colab": {
          "base_uri": "https://localhost:8080/"
        },
        "id": "EVfb2CqfEzjV",
        "outputId": "654dde54-68c7-4e53-f593-8b16e876a5b4"
      },
      "execution_count": null,
      "outputs": [
        {
          "output_type": "stream",
          "name": "stdout",
          "text": [
            "Enter the first number: 2\n",
            "Enter the second number: 25\n",
            "\n",
            " Logical AND:\n",
            "2 > 0 and 25 > 0 : True\n",
            "\n",
            " OR:\n",
            "2 > 0 or 25 > 0: True\n",
            "\n",
            " NOT:\n",
            "not(2 > 0): False\n",
            "not(25 > 0): False\n"
          ]
        }
      ]
    },
    {
      "cell_type": "code",
      "source": [
        "#Write a Python program to convert user input from string to integer, float, and boolean types.\n",
        "user_input = input(\"Enter value:\")\n",
        "\n",
        "print(\"Integer:\", int(user_input))\n",
        "print(\"Float:\", float(user_input))\n",
        "print(\"Boolean:\", bool(user_input))"
      ],
      "metadata": {
        "id": "dJoQWhP6GXDs",
        "colab": {
          "base_uri": "https://localhost:8080/"
        },
        "outputId": "5aa331d8-ec5e-4a55-cabc-3a78f73fcd03"
      },
      "execution_count": null,
      "outputs": [
        {
          "output_type": "stream",
          "name": "stdout",
          "text": [
            "Enter value:4\n",
            "Integer: 4\n",
            "Float: 4.0\n",
            "Boolean: True\n"
          ]
        }
      ]
    },
    {
      "cell_type": "code",
      "source": [
        "#Write code to demonstrate type casting with list elements.\n",
        "num_list = [10,20,30,40,50.5]\n",
        "\n",
        "int_list = [int(float(num)) for num in num_list]\n",
        "print(int_list)\n",
        "\n",
        "float_list = [float(num) for num in num_list]\n",
        "print(float_list)"
      ],
      "metadata": {
        "colab": {
          "base_uri": "https://localhost:8080/"
        },
        "id": "V4fuDJxnfWdC",
        "outputId": "d22a8fa4-143d-4b69-e8f5-412da14ccc30"
      },
      "execution_count": null,
      "outputs": [
        {
          "output_type": "stream",
          "name": "stdout",
          "text": [
            "[10, 20, 30, 40, 50]\n",
            "[10.0, 20.0, 30.0, 40.0, 50.5]\n"
          ]
        }
      ]
    },
    {
      "cell_type": "code",
      "source": [
        "#Write a program that checks if a number is positive, negative, or zero.\n",
        "\n",
        "num = float(input(\"Enter a number: \"))\n",
        "\n",
        "if num > 0:\n",
        "    print(\"The number is positive.\")\n",
        "elif num < 0:\n",
        "    print(\"The number is negative.\")\n",
        "else:\n",
        "    print(\"The number is zero.\")"
      ],
      "metadata": {
        "id": "okQJ7E0amdbp",
        "colab": {
          "base_uri": "https://localhost:8080/"
        },
        "outputId": "1c22c525-0b9b-452c-c63e-a1831c716ac6"
      },
      "execution_count": 9,
      "outputs": [
        {
          "output_type": "stream",
          "name": "stdout",
          "text": [
            "Enter a number: 125\n",
            "The number is positive.\n"
          ]
        }
      ]
    },
    {
      "cell_type": "code",
      "source": [
        "# Write a for loop to print numbers from 1 to 10.\n",
        "\n",
        "for num in range(1,11):\n",
        "  print(num)"
      ],
      "metadata": {
        "colab": {
          "base_uri": "https://localhost:8080/"
        },
        "id": "V8PJirixnLWy",
        "outputId": "9fbb7b9d-c45d-43d4-edab-cf57cd49ddd6"
      },
      "execution_count": 11,
      "outputs": [
        {
          "output_type": "stream",
          "name": "stdout",
          "text": [
            "1\n",
            "2\n",
            "3\n",
            "4\n",
            "5\n",
            "6\n",
            "7\n",
            "8\n",
            "9\n",
            "10\n"
          ]
        }
      ]
    },
    {
      "cell_type": "code",
      "source": [
        "#Write a Python program to find the sum of all even numbers between 1 and 50.\n",
        "even_sum = sum(num for num in range(2,51,2))\n",
        "print(\"sum of all even numbers between 1 and 50:\" , even_sum)"
      ],
      "metadata": {
        "colab": {
          "base_uri": "https://localhost:8080/"
        },
        "id": "IYiy2XdXneUA",
        "outputId": "15bba88e-c030-413a-c5f9-2805aa263d22"
      },
      "execution_count": 13,
      "outputs": [
        {
          "output_type": "stream",
          "name": "stdout",
          "text": [
            "sum of all even numbers between 1 and 50: 650\n"
          ]
        }
      ]
    },
    {
      "cell_type": "code",
      "source": [
        "#Write a program to reverse a string using a while loop.\n",
        "string = \"hello\"\n",
        "reversed_string = \"\"\n",
        "\n",
        "i = len(string) - 1\n",
        "while i >= 0:\n",
        "    reversed_string += string[i]\n",
        "    i -= 1\n",
        "\n",
        "print(reversed_string)\n"
      ],
      "metadata": {
        "colab": {
          "base_uri": "https://localhost:8080/"
        },
        "id": "ID5zex5IpDcJ",
        "outputId": "e3714de9-c2bd-48ae-fb3d-839a5db81c38"
      },
      "execution_count": 14,
      "outputs": [
        {
          "output_type": "stream",
          "name": "stdout",
          "text": [
            "olleh\n"
          ]
        }
      ]
    },
    {
      "cell_type": "code",
      "source": [
        "#Write a Python program to calculate the factorial of a number provided by the user using a while loop\n",
        "\n",
        "num = int(input(\"Enter a number: \"))\n",
        "\n",
        "factorial = 1\n",
        "i = num\n",
        "\n",
        "while i > 0:\n",
        "    factorial *= i\n",
        "    i -= 1\n",
        "\n",
        "print(factorial)\n"
      ],
      "metadata": {
        "colab": {
          "base_uri": "https://localhost:8080/"
        },
        "id": "ziOHdfpRpspM",
        "outputId": "dcc6ab56-c879-436d-b661-ee22d69980c7"
      },
      "execution_count": 15,
      "outputs": [
        {
          "output_type": "stream",
          "name": "stdout",
          "text": [
            "Enter a number: 5\n",
            "120\n"
          ]
        }
      ]
    }
  ]
}